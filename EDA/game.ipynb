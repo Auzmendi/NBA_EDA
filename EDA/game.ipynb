{
 "cells": [
  {
   "cell_type": "code",
   "execution_count": null,
   "metadata": {},
   "outputs": [],
   "source": [
    "import pandas as pd\n",
    "import numpy as np\n",
    "import matplotlib.pyplot as plt\n",
    "import time"
   ]
  },
  {
   "cell_type": "code",
   "execution_count": null,
   "metadata": {},
   "outputs": [],
   "source": [
    "game_df = pd.read_csv('game_1.csv')\n",
    "game_df.sample()"
   ]
  },
  {
   "cell_type": "code",
   "execution_count": null,
   "metadata": {},
   "outputs": [],
   "source": [
    "game_df['season_id'].value_counts()[(game_df['season_id'].value_counts()==1230)|(game_df['season_id'].value_counts()==1189)]\n"
   ]
  },
  {
   "cell_type": "code",
   "execution_count": null,
   "metadata": {},
   "outputs": [],
   "source": [
    "game_df[['team_id_home','team_abbreviation_home']].value_counts().sort_values(ascending=False)"
   ]
  },
  {
   "cell_type": "code",
   "execution_count": null,
   "metadata": {},
   "outputs": [],
   "source": [
    "game_df.sample(5)"
   ]
  },
  {
   "cell_type": "code",
   "execution_count": null,
   "metadata": {},
   "outputs": [],
   "source": [
    "game_df[['fgm_home','fga_home','fg_pct_home','fg3m_home','fg3_pct_home','ftm_home','game_date']][-20:]"
   ]
  },
  {
   "cell_type": "code",
   "execution_count": null,
   "metadata": {},
   "outputs": [],
   "source": [
    "game_df['season_type'].value_counts()"
   ]
  },
  {
   "cell_type": "markdown",
   "metadata": {},
   "source": [
    "# DESCRIPCIÓN DE LAS COLUMNAS DEL CSV GAME.\n",
    "\n",
    "## STATS GENERALES\n",
    "* **season_id** : hay una cifra(2,3,etc) y seguido el año de inicio de la temporada.\n",
    "* **team_id_home**, un id para idenatificar a los equipos. \n",
    "* **team_abbreviation_home**, abreviatura del nombre del equipo\n",
    "* **team_name_home**, nombre del equipo\n",
    "* **game_id**, identificador del partido al que referencian las estadisiticas de esta fila\n",
    "* **game_date**, fecha de dicho partido\n",
    "* **matchup_home**, muestra quienes son los equipos que juegan con sus abrreviaturas y vs en el medio\n",
    "* **wl_home**,  -----no he encontrado nada------\n",
    "* **min**, minutos jugados\n",
    "\n",
    "## STATS POR EQUIPO\n",
    "## EQUIPO LOCAL\n",
    "### TIROS DE CAMPO\n",
    "* **fgm_home**, field goals made por el equipo local. canastas de 2 ptos HECHAS!\n",
    "* **fga_home**, field goals attempted por el equipo local. canastas de 2 ptos INTENTADAS!\n",
    "* **fg_pct_home**,   field goals percentage\n",
    "* \n",
    "### TIROS DE 3 PUNTOS\n",
    "* **fg3m_home**, tiros de 3 convertidos\n",
    "* **fg3a_home**, tiros de 3 intentados\n",
    "* **fg3_pct_home**, porcentaje de acierto en tiros de 3\n",
    "* \n",
    "* ### TIROS LIBRES\n",
    "* **ftm_home**, tiros libres convertidos\n",
    "* **fta_home**,tiros libres intentados\n",
    "* **ft_pct_home**, porcentaje de acierto en tiros libres\n",
    "\n",
    "## REBOTES / ASISTENCIAS / ROBOS / TAPONES / PERDIDAS / FALTAS / PUNTOS\n",
    "* **oreb_home**, rebotes ofensivos\n",
    "* **dreb_home**,rebotes defensivos\n",
    "* **reb_home**,rebotes totales\n",
    "* **ast_home**,asistencias\n",
    "* **stl_home**,robos\n",
    "* **blk_home**,tapones\n",
    "* **tov_home**, pérdidas de balón\n",
    "* **pf_home**, faltas\n",
    "* **pts_home**, puntos\n",
    "* **plus_minus_home**, valoración\n",
    "* **video_available_home**, video disponible.\n",
    "\n",
    "## EQUIPO VISITANTE\n",
    "## STATS GENERALES\n",
    "* **team_id_away**, un id para idenatificar a los equipos.\n",
    "* **team_abbreviation_away**,abreviatura del nombre del equipo\n",
    "* **team_name_away**, nombre del equipo\n",
    "* **matchup_away**,muestra quienes son los equipos que juegan con sus abrreviaturas y vs en el medio\n",
    "* **wl_away**, -----no he encontrado nada------\n",
    "\n",
    "### TIROS DE CAMPO\n",
    "* **fgm_away**, field goals made por el equipo local. canastas de 2 ptos HECHAS!\n",
    "* **fga_away**, field goals attempted por el equipo local. canastas de 2 ptos INTENTADAS!\n",
    "* **fg_pct_away**,   field goals percentage\n",
    "\n",
    "### TIROS DE 3 PUNTOS \n",
    "* **fg3m_away**, tiros de 3 convertidos\n",
    "* **fg3a_away**, tiros de 3 intentados\n",
    "* **fg3_pct_away**, porcentaje de acierto en tiros de 3\n",
    "\n",
    "### TIROS LIBRES\n",
    "* **ftm_away**, tiros libres convertidos\n",
    "* **fta_away**, tiros libres intentados\n",
    "* **ft_pct_away**, porcentaje de acierto en tiros libres\n",
    "\n",
    "## REBOTES / ASISTENCIAS / ROBOS / TAPONES / PERDIDAS / FALTAS / PUNTOS\n",
    "* **oreb_away**, rebotes ofencsivos\n",
    "* **dreb_away**, rebotes defensivos\n",
    "* **reb_away**, rebotes totales\n",
    "* **ast_away**, asistencias\n",
    "* **stl_away**, robos\n",
    "* **blk_away**, tapones\n",
    "* **tov_away**, pérdidas de balón\n",
    "* **pf_away**, faltas\n",
    "* **pts_away**, puntos\n",
    "* **plus_minus_away**, valoración\n",
    "* **video_available_away**, video disponible\n",
    "\n",
    "## INDICADOR DE TIPO DE PARTIDO (PLAYOFF, TEMPORADA REGULAR, ALL STAR)\n",
    "* **season_type** , indicador del tipo de partido. 3 opciones , 'Regular Season', 'Playoffs', 'All Star'\n"
   ]
  },
  {
   "cell_type": "code",
   "execution_count": null,
   "metadata": {},
   "outputs": [],
   "source": [
    "#HAY ALGUNAS COLUMNAS QUE DIRECTAMENTE PUEDO ELIMINAR. pOSTERIORMENTE SEGURAMENTE ELIMINE ALGUNA MÁS.\n",
    "\n",
    "game_df.drop(columns=['team_id_home','team_id_away','wl_home','wl_away','video_available_home','video_available_away'],inplace=True)\n"
   ]
  },
  {
   "cell_type": "markdown",
   "metadata": {},
   "source": [
    "# PRIMERA APROXIMACIÓN AL DF"
   ]
  },
  {
   "cell_type": "code",
   "execution_count": null,
   "metadata": {},
   "outputs": [],
   "source": [
    "game_df.describe().round(2)"
   ]
  },
  {
   "cell_type": "code",
   "execution_count": null,
   "metadata": {},
   "outputs": [],
   "source": []
  },
  {
   "cell_type": "code",
   "execution_count": null,
   "metadata": {},
   "outputs": [],
   "source": [
    "game_df['game_date']=pd.to_datetime(game_df['game_dat'])\n",
    "\n",
    "sns.boxplot\n",
    "\n",
    "\n"
   ]
  },
  {
   "cell_type": "code",
   "execution_count": null,
   "metadata": {},
   "outputs": [],
   "source": [
    "game_df.sort_values('game_date',ascending=False)"
   ]
  },
  {
   "cell_type": "markdown",
   "metadata": {},
   "source": [
    "# VALORES FALTANTES"
   ]
  },
  {
   "cell_type": "code",
   "execution_count": null,
   "metadata": {},
   "outputs": [],
   "source": [
    "# A BUSCAR VALORES FALTANTES\n",
    "# INTUYO QUE LOS PRIMEROS PARTIDOS QUE HAYA TENDRÁN MUCHOS NAN. PORQUE ERA 1946 Y CREQO QUE NO SE REGISTRABAN ALGUNAS COSAS.\n",
    "\n",
    "na_values = game_df.isna().sum()\n",
    "na_values\n",
    "# efectivamente hay bastante data faltante, entorno a un 27% en algunos sitios.\n",
    "# voy a localizar donde está el NAN y ver que valores hay."
   ]
  },
  {
   "cell_type": "code",
   "execution_count": null,
   "metadata": {},
   "outputs": [],
   "source": [
    "#voy a ir columna a columna.\n",
    "game_df[['game_date','fgm_home','fgm_away','ftm_home','ftm_away']][(game_df['fgm_home'].isna())|(game_df['fgm_away'].isna())|(game_df['ftm_home'].isna())|(game_df['ftm_away'].isna())]\n",
    "\n",
    "#EFECTIVAMENTE LOS NAN DE ESTAS PRIMERAS COLUMNAS QUE ESTOY COMPROBANDO SE ENCUENTRA EN APROX. LA PRIMERA DECADA. \n",
    "#EN REALIDAD NO ME VAN A SERVIR DATOS TAN ANTIGUOS PARA COMRPOBAR LAS HIPÓTESIS ASI QUE PUEDO ELIMINAR ESTAS FILAS SIN PROBLEMA.\n",
    "game_df= game_df.drop(game_df[['game_date','fgm_home','fgm_away','ftm_home','ftm_away']][(game_df['fgm_home'].isna())|(game_df['fgm_away'].isna())|(game_df['ftm_home'].isna())|(game_df['ftm_away'].isna())].index,axis=0)"
   ]
  },
  {
   "cell_type": "code",
   "execution_count": null,
   "metadata": {},
   "outputs": [],
   "source": [
    "# VOY A PONER EL FILTRO DE LOS NAN EN TODAS LAS ESTADISTICAS RELATIVAS AL TIRO A LA VEZ PARA TODAS ELLAS\n",
    "# PORQUE CREO QUE VAN A SER LAS MISMAS FILAS. LO VEREMOS. COMO MÍNIMO DEBERIAN SALIR 19074 FILAS. PORQUE VOY A PONER TODO OR\n",
    "nan_tiros_df = game_df[(game_df['fga_home'].isna())|(game_df['fga_away'].isna())|(game_df['fg_pct_home'].isna())|(game_df['fg3m_home'].isna()) \\\n",
    "   |(game_df['fg3_pct_home'].isna())|(game_df['fta_home'].isna())|(game_df['ft_pct_home'].isna())|(game_df['fg_pct_away'].isna())|(game_df['fg3m_away'].isna())|(game_df['fg3_pct_away'].isna())|(game_df['fta_away'].isna())|(game_df['ft_pct_away'].isna())]    \n",
    "nan_tiros_df\n",
    "# HAN SALIDO 19307 FILAS, ALGUNA MÁS QUE LAS QUE ESPERABA. lAS TENDRÉ QUE BUSCAR."
   ]
  },
  {
   "cell_type": "markdown",
   "metadata": {},
   "source": []
  },
  {
   "cell_type": "code",
   "execution_count": null,
   "metadata": {},
   "outputs": [],
   "source": [
    "nan_tiros_df[nan_tiros_df['game_date'].str.startswith('19')]\n",
    "# HAY 3 PARTIDOS CON VALORES FALTANTES DEL 2000 Y PICO.QUE SON LOS QUE ME VAN A SERVIR PARA COMPROBAR LAS HIPÓTESIS.\n",
    "#ASÍ QUE VOY A BUSCAR ESOS DATOS EN INTERNET Y LOS RELLENO A MANO (QUE SON POCOS)"
   ]
  },
  {
   "cell_type": "code",
   "execution_count": null,
   "metadata": {},
   "outputs": [],
   "source": [
    "fechas_2000_nan = list(nan_tiros_df['game_date'][nan_tiros_df['game_date'].str.startswith('2')])\n",
    "fechas_2000_nan"
   ]
  },
  {
   "cell_type": "code",
   "execution_count": null,
   "metadata": {},
   "outputs": [],
   "source": [
    "nan_tiros_df[nan_tiros_df['game_date']==fechas_2000_nan[0]]"
   ]
  },
  {
   "cell_type": "code",
   "execution_count": null,
   "metadata": {},
   "outputs": [],
   "source": [
    "nan_tiros_df[nan_tiros_df['game_date']==fechas_2000_nan[1]]"
   ]
  },
  {
   "cell_type": "code",
   "execution_count": null,
   "metadata": {},
   "outputs": [],
   "source": [
    "nan_tiros_df[nan_tiros_df['game_date']==fechas_2000_nan[2]]"
   ]
  },
  {
   "cell_type": "markdown",
   "metadata": {},
   "source": [
    "De las 3 fechas que tienen valores faltantes con fechas superior al año 2000, las dos últimas son el mismo partido que está repetido, y además es partido de all star. Así que puedo eliminarlos sin problema. El otro partido es de pretemporada así que también lo puedo quitar."
   ]
  },
  {
   "cell_type": "markdown",
   "metadata": {},
   "source": [
    "Para que no me pase más esto. Voy reducir el df a únicamente partidos de temporada regular y playoffs que son los que me interesan.\n"
   ]
  },
  {
   "cell_type": "code",
   "execution_count": null,
   "metadata": {},
   "outputs": [],
   "source": [
    "game_df['season_type'].unique()"
   ]
  },
  {
   "cell_type": "code",
   "execution_count": null,
   "metadata": {},
   "outputs": [],
   "source": [
    "#compruebo cuantas filas tengo antes de reducir el df\n",
    "game_df.shape"
   ]
  },
  {
   "cell_type": "code",
   "execution_count": null,
   "metadata": {},
   "outputs": [],
   "source": [
    "game_df = game_df[(game_df['season_type']=='Playoffs')|(game_df['season_type']=='Regular Season')]\n",
    "game_df.shape"
   ]
  },
  {
   "cell_type": "markdown",
   "metadata": {},
   "source": [
    "Lo siguiente que voy a hacer es quedarme únicamente con los partidos de los 2000 en adelante.\n",
    "Considero que es más que suficiente para hacer el análisis."
   ]
  },
  {
   "cell_type": "code",
   "execution_count": null,
   "metadata": {},
   "outputs": [],
   "source": [
    "df_XX = game_df[game_df['game_date'].str.startswith('2')]"
   ]
  },
  {
   "cell_type": "markdown",
   "metadata": {},
   "source": [
    "Para no perderlo, también guardo en otro df los partidos de antes del año 2000 por si los necesito más adelante"
   ]
  },
  {
   "cell_type": "code",
   "execution_count": null,
   "metadata": {},
   "outputs": [],
   "source": [
    "df_XIX = game_df[game_df['game_date'].str.startswith('19')]"
   ]
  },
  {
   "cell_type": "code",
   "execution_count": null,
   "metadata": {},
   "outputs": [],
   "source": [
    "print(f'Tamaño del df de partidos posteriores al año 2000 : {df_XX.shape}')\n",
    "print(f'Tamaño del df de partidos anteriores al año 2000 : {df_XIX.shape}')\n"
   ]
  },
  {
   "cell_type": "markdown",
   "metadata": {},
   "source": [
    "#PARTIDOS 2000 - XXXX\n",
    "\n",
    "    A partir de aquí voy a trabajar únicamente con los partidos posteriores al año 2000. \n",
    "\n",
    "    Voy a seguir los siguientes pasos: \n",
    "\n",
    "        1. Eliminar los datos duplicados o irrelevantes\n",
    "        2. Corregir los errores estructurales --> fecha\n",
    "        3. Filtra valores atípicos no deseados --> no se esperan\n",
    "        4. Maneja los datos faltantes \n",
    "        5. Valida y controla la calidad "
   ]
  },
  {
   "cell_type": "markdown",
   "metadata": {},
   "source": [
    "1. Eliminar los datos duplicados o irrelevantes"
   ]
  },
  {
   "cell_type": "code",
   "execution_count": null,
   "metadata": {},
   "outputs": [],
   "source": [
    "df_XX.duplicated().value_counts()\n"
   ]
  },
  {
   "cell_type": "markdown",
   "metadata": {},
   "source": [
    "* NO HAY LINEAS COMPLETAS DUPLICADAS\n",
    "* ME PARECE RARO PORQUE YA HE ENCONTRADO UN DUPLICADO EN   PARTIDO DE ALL STAR. \n",
    "* VOY A COMPROBARLO POR ID DEL PARTIDO POR SI ACASO"
   ]
  },
  {
   "cell_type": "code",
   "execution_count": null,
   "metadata": {},
   "outputs": [],
   "source": [
    "df_XX['game_id'].duplicated().value_counts()\n",
    "# PUES TAMPOCO. TODO BIEN"
   ]
  },
  {
   "cell_type": "markdown",
   "metadata": {},
   "source": [
    "2. Corregir los errores estructurales"
   ]
  },
  {
   "cell_type": "markdown",
   "metadata": {},
   "source": [
    "Voy a revisar como están estructurados los datos en cada columna para ver si puedo mejorar algo. De primeras se me ocurre que en la columna de la fecha puedo usar el formato fecha. \n",
    "\n",
    "Primero le voy a quitar la hora que no da información."
   ]
  },
  {
   "cell_type": "code",
   "execution_count": null,
   "metadata": {},
   "outputs": [],
   "source": [
    "\n",
    "df_XX['game_date'] = df_XX['game_date'].str[:10]\n",
    "df_XX"
   ]
  },
  {
   "cell_type": "markdown",
   "metadata": {},
   "source": [
    "Segundo, voy a cambiarle el formato de la columna game_date a fecha."
   ]
  },
  {
   "cell_type": "code",
   "execution_count": null,
   "metadata": {},
   "outputs": [],
   "source": [
    "df_XX['game_date'] = pd.to_datetime(df_XX['game_date'],format='%Y-%m-%d')\n",
    "df_XX.dtypes"
   ]
  },
  {
   "cell_type": "markdown",
   "metadata": {},
   "source": [
    "3. Filtra valores atípicos no deseados \n",
    "\n",
    "    No debería haber valores atípicos. Voy a comprobarlo con el describe y si veo algo raro, estudio el caso concreto."
   ]
  },
  {
   "cell_type": "code",
   "execution_count": null,
   "metadata": {},
   "outputs": [],
   "source": [
    "df_XX.describe().round(2)"
   ]
  },
  {
   "cell_type": "markdown",
   "metadata": {},
   "source": [
    "* Me llama la atención que al parecer ha habido un partido que ha durado 340 minutos.\n",
    "    -Pero los cuartiles 1,2 y 3 son 240 mins así que será un único partido el que está equivocado seguramente.\n",
    "\n",
    "* En la columna 'fg3_pct_home'  veo que alguien metió el 100% de los triples. CUrioso aunque posible."
   ]
  },
  {
   "cell_type": "code",
   "execution_count": null,
   "metadata": {},
   "outputs": [],
   "source": [
    "# COMPRUEBO EL CASO DE 340 MIN DE PARTIDO\n",
    "\n",
    "df_XX[df_XX['min']>330]\n",
    "#ES CORRECTO. 340 min son 4 prórrogas. Y ha sucedido varias veces."
   ]
  },
  {
   "cell_type": "code",
   "execution_count": null,
   "metadata": {},
   "outputs": [],
   "source": [
    "#compruebo los casos en que han metido el 100% de los triples.\n",
    "df_XX[['matchup_home','fg3_pct_home','fg3a_home','fg3m_home']][df_XX['fg3_pct_home']==1]\n",
    "#ES CORRECTO"
   ]
  },
  {
   "cell_type": "code",
   "execution_count": null,
   "metadata": {},
   "outputs": [],
   "source": [
    "columnas_df = list(df_XX.columns)\n",
    "columnas_df.remove('season_id')\n",
    "columnas_df.remove('game_id')\n",
    "columnas_df.remove('team_abbreviation_home')\n",
    "columnas_df.remove('team_name_home')\n",
    "columnas_df.remove('matchup_home')\n",
    "columnas_df.remove('team_abbreviation_away')\n",
    "columnas_df.remove('team_name_away')\n",
    "columnas_df.remove('matchup_away')\n",
    "columnas_df.remove('game_date')\n",
    "columnas_df.remove('season_type')\n",
    "columnas_df"
   ]
  },
  {
   "cell_type": "markdown",
   "metadata": {},
   "source": [
    "Por asegurarme voy a hacer un boxplot de cada columna con valores numéricos para ver que no hay outliers."
   ]
  },
  {
   "cell_type": "code",
   "execution_count": null,
   "metadata": {},
   "outputs": [],
   "source": [
    "for i in columnas_df:\n",
    "    boxplot = df_XX.boxplot(column=i)\n",
    "    boxplot.plot()\n",
    "\n",
    "    plt.show()\n"
   ]
  },
  {
   "cell_type": "markdown",
   "metadata": {},
   "source": [
    "Revisando los boxplots, hay outliers. Pero teniendo en cuenta que se aplica el whis por defecto que es 1.5, no están lo suficientemente alejados para indicar que sean valores erróneos. "
   ]
  },
  {
   "cell_type": "code",
   "execution_count": null,
   "metadata": {},
   "outputs": [],
   "source": [
    "df_XX.set_index('game_date',inplace=True)"
   ]
  },
  {
   "cell_type": "code",
   "execution_count": null,
   "metadata": {},
   "outputs": [],
   "source": [
    "\n",
    "df_año = df_XX[columnas_df].groupby(df_XX.index.year).mean()"
   ]
  },
  {
   "cell_type": "markdown",
   "metadata": {},
   "source": [
    "## **HIPÓTESIS 1:** El estilo de juego ha cambiado con el tiempo en la NBA, con un aumento de la puntuación y un mayor número de triples."
   ]
  },
  {
   "cell_type": "code",
   "execution_count": null,
   "metadata": {},
   "outputs": [],
   "source": [
    "fig, axs = plt.subplots(2, 1, figsize=(10, 10))\n",
    "\n",
    "df_año[['fg3a_home', 'fg3a_away']].plot(ax=axs[0])\n",
    "axs[0].set_title('Media de triples intentados en los últimos años')\n",
    "\n",
    "df_año[['fg3_pct_home', 'fg3_pct_away']].plot(ax=axs[1])\n",
    "axs[1].set_title('Media del porcentaje de acierto en triples en los últimos años')\n",
    "\n",
    "plt.show()"
   ]
  },
  {
   "cell_type": "code",
   "execution_count": null,
   "metadata": {},
   "outputs": [],
   "source": [
    "fig, axs = plt.subplots(2, 1, figsize=(10, 10))\n",
    "\n",
    "df_año[['fga_home', 'fga_away']].plot(ax=axs[0])\n",
    "axs[0].set_title('Media de tiros de campo intentados en los últimos años')\n",
    "\n",
    "df_año[['fg_pct_home', 'fg_pct_away']].plot(ax=axs[1])\n",
    "axs[1].set_title('Media del porcentaje de acierto en tiros de campo en los últimos años')\n",
    "\n",
    "plt.show()"
   ]
  },
  {
   "cell_type": "code",
   "execution_count": null,
   "metadata": {},
   "outputs": [],
   "source": [
    "df_año.columns"
   ]
  },
  {
   "cell_type": "code",
   "execution_count": null,
   "metadata": {},
   "outputs": [],
   "source": [
    "fig, axs = plt.subplots(2, 1, figsize=(10, 10))\n",
    "\n",
    "df_año[['fta_home', 'fta_away']].plot(ax=axs[0])\n",
    "axs[0].set_title('Media de tiros libres intentados en los últimos años')\n",
    "\n",
    "df_año[['ft_pct_home', 'ft_pct_away']].plot(ax=axs[1])\n",
    "axs[1].set_title('Media del porcentaje de acierto en tiros libres en los últimos años')\n",
    "\n",
    "plt.show()"
   ]
  },
  {
   "cell_type": "markdown",
   "metadata": {},
   "source": [
    "### SEGÚN LOS RESULTADOS, LOS PUNTOS POR PARTIDO DEBERÍAN SUBIR YA QUE CON EL TIEMPO, HAN SUBIDO MUCHO LOS INTENTOS DE TRIPLES Y TIROS DE CAMPO, AUNQUE HA SUBIDO LIGERAMENTE EL % DE ACIERTO"
   ]
  },
  {
   "cell_type": "code",
   "execution_count": null,
   "metadata": {},
   "outputs": [],
   "source": [
    "fig, axs = plt.subplots(2, 1, figsize=(10, 10))\n",
    "\n",
    "df_año[['pts_home', 'pts_away']].plot(ax=axs[0])\n",
    "axs[0].set_title('Media de puntos anotados por partido en los últimos años')\n",
    "\n",
    "\n",
    "\n",
    "plt.show()"
   ]
  },
  {
   "cell_type": "markdown",
   "metadata": {},
   "source": [
    "Parece claro que en las últimas décadas la tendencia ha sido, aumentar el nº de tiros  por partido, tanto de 3 como tiros de campo. Al aumentar ambos, implica que el tiempo por ataque ha disminuido, ya que el tiempo de juego es el mismo. Por otro lado, también ha aumentado ligeramente el porcentaje de acierto. Esto probablemente se deba a entrenamientos más específicos para varios de los jugadores, no sólo para el típico triplista del equipo. \n",
    "\n"
   ]
  },
  {
   "cell_type": "markdown",
   "metadata": {},
   "source": [
    "## **HIPÓTESIS 2:** Los equipos locales tienen una mayor probabilidad de ganar los partidos."
   ]
  },
  {
   "cell_type": "code",
   "execution_count": null,
   "metadata": {},
   "outputs": [],
   "source": [
    "df_XX['winner'] = df_XX.apply(lambda row: 'Home' if row['pts_home'] > row['pts_away'] else 'Away', axis=1)"
   ]
  },
  {
   "cell_type": "code",
   "execution_count": null,
   "metadata": {},
   "outputs": [],
   "source": [
    "df_XX['winner'].isna().value_counts()"
   ]
  },
  {
   "cell_type": "code",
   "execution_count": null,
   "metadata": {},
   "outputs": [],
   "source": [
    "counts = df_XX['winner'].value_counts()\n",
    "plt.figure(figsize=(6, 4))\n",
    "plt.bar(counts.index, counts.values, alpha=0.8,color=['green','blue'])\n",
    "plt.title('Partidos ganados local vs visitante')\n",
    "plt.xlabel('Equipo')\n",
    "plt.ylabel('Número de partidos ganados')\n",
    "plt.show()"
   ]
  },
  {
   "cell_type": "markdown",
   "metadata": {},
   "source": [
    "Se confirma que los equipos locales tienen mayor probabilidad de ganar partidos. En la siguiente gráfica podemos ver los porcentajes. Aproximádamente 60% de victorias para los locales."
   ]
  },
  {
   "cell_type": "code",
   "execution_count": null,
   "metadata": {},
   "outputs": [],
   "source": [
    "counts = counts.apply(lambda x: x / counts.sum())\n",
    "plt.figure(figsize=(6, 4))\n",
    "plt.bar(counts.index, counts.values, alpha=0.8,color=['green','blue'])\n",
    "plt.title('Partidos ganados local vs visitante')\n",
    "plt.xlabel('Equipo')\n",
    "plt.ylabel('Número de partidos ganados')\n",
    "plt.show()"
   ]
  },
  {
   "cell_type": "markdown",
   "metadata": {},
   "source": [
    "## **HIPÓTESIS 3:** Los equipos con mayor % de tiro de 3 puntos tienen una mayor probabilidad de ganar los partidos."
   ]
  },
  {
   "cell_type": "markdown",
   "metadata": {},
   "source": [
    "Lo primero será diferenciar que equipos tiran mas triple."
   ]
  },
  {
   "cell_type": "code",
   "execution_count": null,
   "metadata": {},
   "outputs": [],
   "source": [
    "df_XX.head()"
   ]
  },
  {
   "cell_type": "code",
   "execution_count": null,
   "metadata": {},
   "outputs": [],
   "source": [
    "df_XX_home = df_XX.drop(columns=[ 'team_abbreviation_away', 'team_name_away',\n",
    "       'matchup_away', 'fgm_away', 'fga_away', 'fg_pct_away', 'fg3m_away',\n",
    "       'fg3a_away', 'fg3_pct_away', 'ftm_away', 'fta_away', 'ft_pct_away',\n",
    "       'oreb_away', 'dreb_away', 'reb_away', 'ast_away', 'stl_away',\n",
    "       'blk_away', 'tov_away', 'pf_away', 'pts_away', 'plus_minus_away'])\n",
    "df_XX_away =df_XX.drop(columns=['team_abbreviation_home', 'team_name_home', 'game_id',\n",
    "       'matchup_home', 'fgm_home', 'fga_home', 'fg_pct_home',\n",
    "       'fg3m_home', 'fg3a_home', 'fg3_pct_home', 'ftm_home', 'fta_home',\n",
    "       'ft_pct_home', 'oreb_home', 'dreb_home', 'reb_home', 'ast_home',\n",
    "       'stl_home', 'blk_home', 'tov_home', 'pf_home', 'pts_home',\n",
    "       'plus_minus_home'])"
   ]
  },
  {
   "cell_type": "code",
   "execution_count": null,
   "metadata": {},
   "outputs": [],
   "source": [
    "df_XX_home['winner_TF']= df_XX_home.apply(lambda row: 1 if row['winner']=='Home' else 0, axis=1)\n",
    "df_XX_away['winner_TF']= df_XX_away.apply(lambda row: 1 if row['winner']=='Away' else 0, axis=1)\n"
   ]
  },
  {
   "cell_type": "code",
   "execution_count": null,
   "metadata": {},
   "outputs": [],
   "source": [
    "team_3pts_home = df_XX_home[['team_name_home','fg3a_home','winner_TF']].groupby([df_XX_home.index.year,'team_name_home']).mean(['fg3a_home','winner_TF']).sort_values(by='fg3a_home',ascending=False)\n",
    "team_3pts_away = df_XX_away[['team_name_away','fg3a_away','winner_TF']].groupby([df_XX_away.index.year,'team_name_away']).mean(['fg3a_away','winner_TF']).sort_values(by='fg3a_away',ascending=False)"
   ]
  },
  {
   "cell_type": "code",
   "execution_count": null,
   "metadata": {},
   "outputs": [],
   "source": [
    "df_XX_home"
   ]
  },
  {
   "cell_type": "code",
   "execution_count": null,
   "metadata": {},
   "outputs": [],
   "source": [
    "team_3pts_away.head(10).round(2)"
   ]
  },
  {
   "cell_type": "code",
   "execution_count": null,
   "metadata": {},
   "outputs": [],
   "source": [
    "plt.figure(figsize=(10, 6))  # Ajustar el tamaño de la figura si lo desea\n",
    "plt.scatter(team_3pts_away['fg3a_away'], team_3pts_away['winner_TF'], c='red', alpha=0.7)  # Color y transparencia de los puntos\n",
    "plt.xlabel('Triples lanzados (equipo visitante)')  # Etiqueta del eje X\n",
    "plt.ylabel('Porcentajes de victorias')  # Etiqueta del eje Y\n",
    "plt.title('Relación entre triples lanzados y resultado del partido. VISITANTE')  # Título del gráfico\n",
    "plt.grid(True)  # Activar la rejilla\n",
    "plt.show()"
   ]
  },
  {
   "cell_type": "code",
   "execution_count": null,
   "metadata": {},
   "outputs": [],
   "source": [
    "plt.figure(figsize=(10, 6))  # Ajustar el tamaño de la figura si lo desea\n",
    "plt.scatter(team_3pts_home['fg3a_home'], team_3pts_home['winner_TF'], c='blue', alpha=0.7)  # Color y transparencia de los puntos\n",
    "plt.xlabel('Triples lanzados (equipo local)')  # Etiqueta del eje X\n",
    "plt.ylabel('Resultado del partido (Victoria: 1, Derrota: 0)')  # Etiqueta del eje Y\n",
    "plt.title('Relación entre triples lanzados y resultado del partido.LOCAL')  # Título del gráfico\n",
    "plt.grid(True)  # Activar la rejilla\n",
    "plt.show()"
   ]
  },
  {
   "cell_type": "markdown",
   "metadata": {},
   "source": [
    "No parece que haya ninguna relación entre los tiros intentados y las victorias"
   ]
  },
  {
   "cell_type": "code",
   "execution_count": null,
   "metadata": {},
   "outputs": [],
   "source": []
  }
 ],
 "metadata": {
  "kernelspec": {
   "display_name": "Python 3",
   "language": "python",
   "name": "python3"
  },
  "language_info": {
   "codemirror_mode": {
    "name": "ipython",
    "version": 3
   },
   "file_extension": ".py",
   "mimetype": "text/x-python",
   "name": "python",
   "nbconvert_exporter": "python",
   "pygments_lexer": "ipython3",
   "version": "3.11.9"
  }
 },
 "nbformat": 4,
 "nbformat_minor": 2
}
