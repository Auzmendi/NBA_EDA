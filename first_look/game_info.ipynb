{
 "cells": [
  {
   "cell_type": "code",
   "execution_count": 1,
   "metadata": {},
   "outputs": [],
   "source": [
    "import pandas as pd\n",
    "import numpy as np"
   ]
  },
  {
   "cell_type": "code",
   "execution_count": 2,
   "metadata": {},
   "outputs": [
    {
     "data": {
      "text/html": [
       "<div>\n",
       "<style scoped>\n",
       "    .dataframe tbody tr th:only-of-type {\n",
       "        vertical-align: middle;\n",
       "    }\n",
       "\n",
       "    .dataframe tbody tr th {\n",
       "        vertical-align: top;\n",
       "    }\n",
       "\n",
       "    .dataframe thead th {\n",
       "        text-align: right;\n",
       "    }\n",
       "</style>\n",
       "<table border=\"1\" class=\"dataframe\">\n",
       "  <thead>\n",
       "    <tr style=\"text-align: right;\">\n",
       "      <th></th>\n",
       "      <th>game_id</th>\n",
       "      <th>game_date</th>\n",
       "      <th>attendance</th>\n",
       "      <th>game_time</th>\n",
       "    </tr>\n",
       "  </thead>\n",
       "  <tbody>\n",
       "    <tr>\n",
       "      <th>41595</th>\n",
       "      <td>20801045</td>\n",
       "      <td>2009-03-22 00:00:00</td>\n",
       "      <td>18348.0</td>\n",
       "      <td>2:20</td>\n",
       "    </tr>\n",
       "    <tr>\n",
       "      <th>22349</th>\n",
       "      <td>29100277</td>\n",
       "      <td>1991-12-13 00:00:00</td>\n",
       "      <td>18676.0</td>\n",
       "      <td>NaN</td>\n",
       "    </tr>\n",
       "    <tr>\n",
       "      <th>20192</th>\n",
       "      <td>28900219</td>\n",
       "      <td>1989-12-06 00:00:00</td>\n",
       "      <td>15077.0</td>\n",
       "      <td>NaN</td>\n",
       "    </tr>\n",
       "    <tr>\n",
       "      <th>25638</th>\n",
       "      <td>29400524</td>\n",
       "      <td>1995-01-25 00:00:00</td>\n",
       "      <td>23698.0</td>\n",
       "      <td>NaN</td>\n",
       "    </tr>\n",
       "    <tr>\n",
       "      <th>45254</th>\n",
       "      <td>21100791</td>\n",
       "      <td>2012-04-03 00:00:00</td>\n",
       "      <td>14640.0</td>\n",
       "      <td>2:27</td>\n",
       "    </tr>\n",
       "    <tr>\n",
       "      <th>42712</th>\n",
       "      <td>20900865</td>\n",
       "      <td>2010-02-26 00:00:00</td>\n",
       "      <td>18203.0</td>\n",
       "      <td>2:08</td>\n",
       "    </tr>\n",
       "    <tr>\n",
       "      <th>21867</th>\n",
       "      <td>29000924</td>\n",
       "      <td>1991-03-26 00:00:00</td>\n",
       "      <td>14487.0</td>\n",
       "      <td>NaN</td>\n",
       "    </tr>\n",
       "    <tr>\n",
       "      <th>28160</th>\n",
       "      <td>29601029</td>\n",
       "      <td>1997-03-29 00:00:00</td>\n",
       "      <td>25705.0</td>\n",
       "      <td>2:27</td>\n",
       "    </tr>\n",
       "    <tr>\n",
       "      <th>742</th>\n",
       "      <td>24800330</td>\n",
       "      <td>1949-03-10 00:00:00</td>\n",
       "      <td>NaN</td>\n",
       "      <td>NaN</td>\n",
       "    </tr>\n",
       "    <tr>\n",
       "      <th>10157</th>\n",
       "      <td>27700629</td>\n",
       "      <td>1978-02-21 00:00:00</td>\n",
       "      <td>12287.0</td>\n",
       "      <td>NaN</td>\n",
       "    </tr>\n",
       "  </tbody>\n",
       "</table>\n",
       "</div>"
      ],
      "text/plain": [
       "        game_id            game_date  attendance game_time\n",
       "41595  20801045  2009-03-22 00:00:00     18348.0      2:20\n",
       "22349  29100277  1991-12-13 00:00:00     18676.0       NaN\n",
       "20192  28900219  1989-12-06 00:00:00     15077.0       NaN\n",
       "25638  29400524  1995-01-25 00:00:00     23698.0       NaN\n",
       "45254  21100791  2012-04-03 00:00:00     14640.0      2:27\n",
       "42712  20900865  2010-02-26 00:00:00     18203.0      2:08\n",
       "21867  29000924  1991-03-26 00:00:00     14487.0       NaN\n",
       "28160  29601029  1997-03-29 00:00:00     25705.0      2:27\n",
       "742    24800330  1949-03-10 00:00:00         NaN       NaN\n",
       "10157  27700629  1978-02-21 00:00:00     12287.0       NaN"
      ]
     },
     "execution_count": 2,
     "metadata": {},
     "output_type": "execute_result"
    }
   ],
   "source": [
    "game_info_df = pd.read_csv('datasets/game_info.csv')\n",
    "game_info_df.sample(10)"
   ]
  },
  {
   "cell_type": "markdown",
   "metadata": {},
   "source": [
    "Tampoco es útil"
   ]
  },
  {
   "cell_type": "code",
   "execution_count": null,
   "metadata": {},
   "outputs": [],
   "source": []
  }
 ],
 "metadata": {
  "kernelspec": {
   "display_name": "Python 3",
   "language": "python",
   "name": "python3"
  },
  "language_info": {
   "codemirror_mode": {
    "name": "ipython",
    "version": 3
   },
   "file_extension": ".py",
   "mimetype": "text/x-python",
   "name": "python",
   "nbconvert_exporter": "python",
   "pygments_lexer": "ipython3",
   "version": "3.11.9"
  }
 },
 "nbformat": 4,
 "nbformat_minor": 2
}
